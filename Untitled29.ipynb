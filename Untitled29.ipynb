{
  "nbformat": 4,
  "nbformat_minor": 0,
  "metadata": {
    "colab": {
      "provenance": [],
      "authorship_tag": "ABX9TyOzr8oO4SmPRb7u2ypJYT+n",
      "include_colab_link": true
    },
    "kernelspec": {
      "name": "python3",
      "display_name": "Python 3"
    },
    "language_info": {
      "name": "python"
    }
  },
  "cells": [
    {
      "cell_type": "markdown",
      "metadata": {
        "id": "view-in-github",
        "colab_type": "text"
      },
      "source": [
        "<a href=\"https://colab.research.google.com/github/anushka827/model-1/blob/main/Untitled29.ipynb\" target=\"_parent\"><img src=\"https://colab.research.google.com/assets/colab-badge.svg\" alt=\"Open In Colab\"/></a>"
      ]
    },
    {
      "cell_type": "code",
      "source": [
        "import pandas as pd\n",
        "from sklearn.ensemble import GradientBoostingRegressor\n",
        "from sklearn.metrics import mean_absolute_error, mean_squared_error, r2_score\n",
        "\n",
        "# Step 1: Load the datasets\n",
        "# Load training data from 'train.csv'\n",
        "train_df = pd.read_csv('train.csv')\n",
        "# Load test data from 'test.csv'\n",
        "test_df = pd.read_csv('test.csv')\n",
        "\n",
        "# Step 2: Define features and target variable\n",
        "# These are the columns used as input for the model\n",
        "features = ['clonesize', 'honeybee', 'bumbles', 'andrena', 'osmia',\n",
        "            'MaxOfUpperTRange', 'MinOfUpperTRange', 'AverageOfUpperTRange',\n",
        "            'MaxOfLowerTRange', 'MinOfLowerTRange', 'AverageOfLowerTRange',\n",
        "            'RainingDays', 'AverageRainingDays', 'fruitset', 'fruitmass', 'seeds']\n",
        "# This is the column the model will try to predict\n",
        "target = 'output'\n",
        "\n",
        "# Separate features (X) and target (y) for the training set\n",
        "X_train = train_df[features]\n",
        "y_train = train_df[target]\n",
        "\n",
        "# Prepare the features for the test set (no 'output' column in test data)\n",
        "X_test = test_df[features]\n",
        "\n",
        "# Step 3: Initialize and train the GradientBoostingRegressor model\n",
        "# n_estimators: The number of boosting stages to perform.\n",
        "# learning_rate: Controls the contribution of each tree.\n",
        "# random_state: A seed for reproducibility.\n",
        "gb_model = GradientBoostingRegressor(n_estimators=100, learning_rate=0.1, random_state=42)\n",
        "\n",
        "# Train the model using the training data\n",
        "gb_model.fit(X_train, y_train)\n",
        "\n",
        "# Step 4: Make predictions on the training data\n",
        "# These predictions are used to evaluate how well the model learned from the data it was trained on.\n",
        "y_train_pred_gb = gb_model.predict(X_train)\n",
        "\n",
        "# Step 5: Evaluate the model on the training data\n",
        "# Calculate common regression metrics:\n",
        "# MAE (Mean Absolute Error)\n",
        "# MSE (Mean Squared Error)\n",
        "# RMSE (Root Mean Squared Error)\n",
        "# R2 (R-squared)\n",
        "mae_train_gb = mean_absolute_error(y_train, y_train_pred_gb)\n",
        "mse_train_gb = mean_squared_error(y_train, y_train_pred_gb)\n",
        "rmse_train_gb = mse_train_gb**0.5\n",
        "r2_train_gb = r2_score(y_train, y_train_pred_gb)\n",
        "\n",
        "# Print the evaluation metrics for the training set\n",
        "print(\"Gradient Boosting Regressor Training Metrics:\")\n",
        "print(f\"Mean Absolute Error (MAE): {mae_train_gb:.2f}\")\n",
        "print(f\"Mean Squared Error (MSE): {mse_train_gb:.2f}\")\n",
        "print(f\"Root Mean Squared Error (RMSE): {rmse_train_gb:.2f}\")\n",
        "print(f\"R-squared (R2): {r2_train_gb:.2f}\")\n",
        "\n",
        "# Step 6: Make predictions on the test data\n",
        "# These are predictions on unseen data.\n",
        "y_test_pred_gb = gb_model.predict(X_test)\n",
        "\n",
        "# Create a DataFrame to store the test predictions\n",
        "test_predictions_gb_df = pd.DataFrame({\n",
        "    'id': test_df['id'],\n",
        "    'predicted_output_gb': y_test_pred_gb\n",
        "})\n",
        "\n",
        "# Display the first few rows of the generated test predictions\n",
        "print(\"\\nGradient Boosting Test Predictions Head:\")\n",
        "print(test_predictions_gb_df.head())\n",
        "\n",
        "# Save the test predictions to a new CSV file\n",
        "test_predictions_gb_df.to_csv('test_predictions_gradient_boosting.csv', index=False)"
      ],
      "metadata": {
        "colab": {
          "base_uri": "https://localhost:8080/"
        },
        "id": "GDSCZKOpdT0q",
        "outputId": "f972d42b-5617-4acd-8a50-800dc0135c8e"
      },
      "execution_count": 33,
      "outputs": [
        {
          "output_type": "stream",
          "name": "stdout",
          "text": [
            "Gradient Boosting Regressor Training Metrics:\n",
            "Mean Absolute Error (MAE): 236.90\n",
            "Mean Squared Error (MSE): 125680.93\n",
            "Root Mean Squared Error (RMSE): 354.52\n",
            "R-squared (R2): 0.93\n",
            "\n",
            "Gradient Boosting Test Predictions Head:\n",
            "   id  predicted_output_gb\n",
            "0   1          4230.733904\n",
            "1   2          3453.448411\n",
            "2   3          6379.989448\n",
            "3   4          4163.950768\n",
            "4   5          7423.623281\n"
          ]
        }
      ]
    }
  ]
}