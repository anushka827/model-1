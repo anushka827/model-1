{
  "cells": [
    {
      "cell_type": "markdown",
      "metadata": {
        "id": "view-in-github",
        "colab_type": "text"
      },
      "source": [
        "<a href=\"https://colab.research.google.com/github/anushka827/model-1/blob/main/Stacking_Regressor_Model.ipynb\" target=\"_parent\"><img src=\"https://colab.research.google.com/assets/colab-badge.svg\" alt=\"Open In Colab\"/></a>"
      ]
    },
    {
      "cell_type": "code",
      "source": [
        "import pandas as pd\n",
        "from sklearn.ensemble import GradientBoostingRegressor, RandomForestRegressor, StackingRegressor\n",
        "from sklearn.linear_model import Ridge\n",
        "from sklearn.metrics import mean_absolute_error, mean_squared_error, r2_score\n",
        "from sklearn.model_selection import train_test_split # Added for potential future use or validation\n",
        "\n",
        "# Step 1: Load the datasets\n",
        "# Load training data from 'train.csv'\n",
        "train_df = pd.read_csv('train.csv')\n",
        "# Load test data from 'test.csv'\n",
        "test_df = pd.read_csv('test.csv')\n",
        "\n",
        "# Step 2: Define features and target variable\n",
        "# These are the columns used as input for the model\n",
        "features = ['clonesize', 'honeybee', 'bumbles', 'andrena', 'osmia',\n",
        "            'MaxOfUpperTRange', 'MinOfUpperTRange', 'AverageOfUpperTRange',\n",
        "            'MaxOfLowerTRange', 'MinOfLowerTRange', 'AverageOfLowerTRange',\n",
        "            'RainingDays', 'AverageRainingDays', 'fruitset', 'fruitmass', 'seeds']\n",
        "# This is the column the model will try to predict\n",
        "target = 'output'\n",
        "\n",
        "# Separate features (X) and target (y) for the training set\n",
        "X_train = train_df[features]\n",
        "y_train = train_df[target]\n",
        "\n",
        "# Prepare the features for the test set (no 'output' column in test data)\n",
        "X_test = test_df[features]\n",
        "\n",
        "# Step 3: Define Base Models for Stacking\n",
        "# We'll use a few different types of regressors as our base learners.\n",
        "# These models will make predictions, and their predictions will then be fed into the final estimator.\n",
        "estimators = [\n",
        "    ('gb', GradientBoostingRegressor(n_estimators=100, learning_rate=0.1, random_state=42)),\n",
        "    ('rf', RandomForestRegressor(n_estimators=100, random_state=42)),\n",
        "    ('ridge', Ridge(random_state=42))\n",
        "]\n",
        "\n",
        "# Step 4: Initialize and train the StackingRegressor model\n",
        "# The StackingRegressor takes a list of (name, estimator) tuples for its base models.\n",
        "# final_estimator: This is the meta-model that learns to combine the predictions of the base estimators.\n",
        "# cv: Determines the cross-validation splitting strategy. 5-fold cross-validation is a good default.\n",
        "# n_jobs: Number of jobs to run in parallel (-1 means use all available processors).\n",
        "stacking_model = StackingRegressor(\n",
        "    estimators=estimators,\n",
        "    final_estimator=Ridge(random_state=42), # Using Ridge as the meta-model\n",
        "    cv=5, # 5-fold cross-validation for generating meta-features\n",
        "    n_jobs=-1 # Use all available CPU cores for parallel processing\n",
        ")\n",
        "\n",
        "print(\"Training Stacking Regressor model...\")\n",
        "# Train the stacking model using the training data\n",
        "stacking_model.fit(X_train, y_train)\n",
        "print(\"Stacking Regressor model training complete.\")\n",
        "\n",
        "# Step 5: Make predictions on the training data\n",
        "# These predictions are used to evaluate how well the model learned from the data it was trained on.\n",
        "y_train_pred_stack = stacking_model.predict(X_train)\n",
        "\n",
        "# Step 6: Evaluate the model on the training data\n",
        "# Calculate common regression metrics:\n",
        "# MAE (Mean Absolute Error)\n",
        "# MSE (Mean Squared Error)\n",
        "# RMSE (Root Mean Squared Error)\n",
        "# R2 (R-squared)\n",
        "mae_train_stack = mean_absolute_error(y_train, y_train_pred_stack)\n",
        "mse_train_stack = mean_squared_error(y_train, y_train_pred_stack)\n",
        "rmse_train_stack = mse_train_stack**0.5\n",
        "r2_train_stack = r2_score(y_train, y_train_pred_stack)\n",
        "\n",
        "# Print the evaluation metrics for the training set\n",
        "print(\"\\nStacking Regressor Training Metrics:\")\n",
        "print(f\"Mean Absolute Error (MAE): {mae_train_stack:.2f}\")\n",
        "print(f\"Mean Squared Error (MSE): {mse_train_stack:.2f}\")\n",
        "print(f\"Root Mean Squared Error (RMSE): {rmse_train_stack:.2f}\")\n",
        "print(f\"R-squared (R2): {r2_train_stack:.2f}\")\n",
        "\n",
        "# Step 7: Make predictions on the test data\n",
        "# These are predictions on unseen data.\n",
        "y_test_pred_stack = stacking_model.predict(X_test)\n",
        "\n",
        "# Create a DataFrame to store the test predictions\n",
        "test_predictions_stack_df = pd.DataFrame({\n",
        "    'id': test_df['id'],\n",
        "    'predicted_output_stack': y_test_pred_stack\n",
        "})\n",
        "\n",
        "# Display the first few rows of the generated test predictions\n",
        "print(\"\\nStacking Regressor Test Predictions Head:\")\n",
        "print(test_predictions_stack_df.head())\n",
        "\n",
        "# Save the test predictions to a new CSV file\n",
        "test_predictions_stack_df.to_csv('test_predictions_stacking.csv', index=False)\n",
        "print(\"\\nTest predictions saved to 'test_predictions_stacking.csv'\")"
      ],
      "outputs": [
        {
          "output_type": "stream",
          "name": "stdout",
          "text": [
            "Training Stacking Regressor model...\n",
            "Stacking Regressor model training complete.\n",
            "\n",
            "Stacking Regressor Training Metrics:\n",
            "Mean Absolute Error (MAE): 193.87\n",
            "Mean Squared Error (MSE): 84793.81\n",
            "Root Mean Squared Error (RMSE): 291.19\n",
            "R-squared (R2): 0.95\n",
            "\n",
            "Stacking Regressor Test Predictions Head:\n",
            "   id  predicted_output_stack\n",
            "0   1             4225.726124\n",
            "1   2             3456.484551\n",
            "2   3             6365.235795\n",
            "3   4             4189.143457\n",
            "4   5             7386.185374\n",
            "\n",
            "Test predictions saved to 'test_predictions_stacking.csv'\n"
          ]
        }
      ],
      "execution_count": 1,
      "metadata": {
        "colab": {
          "base_uri": "https://localhost:8080/"
        },
        "id": "w-LBM_1jRGXp",
        "outputId": "8ea98df6-b231-4cfa-8aa6-c317fee880b6"
      }
    }
  ],
  "metadata": {
    "colab": {
      "provenance": [],
      "include_colab_link": true
    },
    "kernelspec": {
      "display_name": "Python 3",
      "name": "python3"
    }
  },
  "nbformat": 4,
  "nbformat_minor": 0
}